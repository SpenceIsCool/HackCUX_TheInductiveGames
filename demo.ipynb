{
 "cells": [
  {
   "cell_type": "markdown",
   "id": "960d3c3d-5ffb-41df-9fea-124da6737667",
   "metadata": {},
   "source": [
    "\n",
    "$$\n",
    "% have % in front of the one that you do not want\n",
    "% this one makes lots of new lines between sections\n",
    "% \\newcommand{\\oLines}{\\begin{array}{c}\\\\\\\\\\\\\\\\\\\\\\\\\\\\\\\\\\\\\\\\\\\\\\end{array}}\n",
    "% this one does not make the new lines\n",
    "\\newcommand{\\oLines}{}\n",
    "$$"
   ]
  },
  {
   "cell_type": "markdown",
   "id": "af7d8fb5-4ca1-461e-a7ab-9bab03ce5fee",
   "metadata": {},
   "source": [
    "# The Inductive Games\n",
    "These games are for:\n",
    "1. People that want to learn about Inductive Logic.\n",
    "2. Educators that want to assess and assist people as they learn Inductive Logic.\n"
   ]
  },
  {
   "cell_type": "markdown",
   "id": "edfbf173-e739-4d48-8b97-549f22804f8d",
   "metadata": {},
   "source": [
    "$\\oLines$"
   ]
  },
  {
   "cell_type": "markdown",
   "id": "cd7f8452-3b2a-4d04-85ae-8f39075aba34",
   "metadata": {},
   "source": [
    "## Motivation\n",
    "Recursion is hard to learn as it requires induction, a property that can not be defined until you have defined induction. However, but induction has some convenient mathematical properties that allow us to prove things about a system and author recursive solutions with relative ease.\n",
    "\n",
    "Some of us \"in the know\" have learned about \"<a href=\"https://en.wikipedia.org/wiki/Backus%E2%80%93Naur_form\">Backus Naur Form Grammars</a>\" like these:\n",
    "\n",
    "* <a href=\"https://en.wikipedia.org/wiki/Peano_axioms\">Peano Numbers</a> to describe all natural numbers:\n",
    "$$\n",
    "\\begin{array}{rrll}\n",
    "    {\\color{red}{\\mathbb{N}}}\\color{black}{} & ::= & Zero \\\\\n",
    "    &|& Successor(\\; {\\color{red}{\\mathbb{N}}}\\; )\n",
    "\\end{array}\n",
    "$$\n",
    "\n",
    "* The language of equal number or `a`s and `b`s\n",
    "$$\n",
    "\\begin{array}{rrll}\n",
    "    {\\color{red}{\\mathbf{S}}} & ::= & \\epsilon \\\\\n",
    "    &|& a\\; {\\color{red}{\\mathbf{S}}}\\; b\n",
    "\\end{array}\n",
    "$$\n",
    "\n",
    "* Those are fine, but they aren't very obvious how they work. Consider the following games that remove the syntax of BNF grammars and teach people how to think inductively by observing patterns in pictures and physically arranging the pictures to demonstrate knowledge."
   ]
  },
  {
   "cell_type": "markdown",
   "id": "1e21ba1c-bf43-4980-97da-bc6aad352a0f",
   "metadata": {},
   "source": [
    "$\\oLines$"
   ]
  },
  {
   "cell_type": "markdown",
   "id": "fa64bf93-3651-49b4-9686-302c804be8dd",
   "metadata": {},
   "source": [
    "## Games\n",
    "* While each game can be played alone, we recommend that the game is played in teams of 2. If there is an educator in the loop, the goal is not to have learners get to some \"correct\" answer, but rather for learners explore possibilities and explain their reasoning.\n",
    "* If a learner gets stuck, the educator might consider:\n",
    "    * to ask the student to think aloud about their thought process\n",
    "    * to encourage the learner to see what other students have come up with and ask their peers about their thought process\n",
    "    * to add constraints to the problem\n",
    "        * e.g. tell the learner that the triangle is the starting position\n",
    "        * e.g. tell the learner that this medium complex structure one ending position\n",
    "        * e.g. remove some of the intentionally misleading items from the cards\n",
    "* Each game is a collection of printables. That you can print and then cut out. Color printing is recommended. If you don't have access to a printer, each game is easy enough to make with some material that you have laying around your home or office (paper, writing utensils, scissors)."
   ]
  },
  {
   "cell_type": "markdown",
   "id": "7c8cdae9-d12f-42c8-8359-fa6cac4cf62e",
   "metadata": {},
   "source": [
    "$\\oLines$"
   ]
  },
  {
   "cell_type": "markdown",
   "id": "62682d73-a05f-4d4e-93c9-8e8afb80052c",
   "metadata": {},
   "source": [
    "### Link List Laugh"
   ]
  },
  {
   "cell_type": "markdown",
   "id": "2d889ad2-6a3f-4e9b-a8ee-a1200bb8117c",
   "metadata": {},
   "source": [
    "$\\oLines$"
   ]
  },
  {
   "cell_type": "markdown",
   "id": "45503d9f-af50-471d-a144-86ff3c1bf23e",
   "metadata": {},
   "source": [
    "### An Abstraction of Abstract Syntax Trees"
   ]
  },
  {
   "cell_type": "markdown",
   "id": "2670d836-dd9e-4ef0-b29f-90afb84c9cd3",
   "metadata": {},
   "source": [
    "$\\oLines$"
   ]
  },
  {
   "cell_type": "markdown",
   "id": "b1e6805b-e445-4875-bf5d-9053c2128186",
   "metadata": {},
   "source": [
    "### Solar Induction"
   ]
  },
  {
   "cell_type": "markdown",
   "id": "4402bfb0-4cbc-4a5f-a43b-395e9e77ea22",
   "metadata": {},
   "source": [
    "$\\oLines$"
   ]
  },
  {
   "cell_type": "markdown",
   "id": "005c6f7c-f19f-4631-bc6c-85a641f06e47",
   "metadata": {},
   "source": [
    "## Process Documentation and Reflection"
   ]
  },
  {
   "cell_type": "markdown",
   "id": "f99e2d06-195c-409e-a679-6f9d80058817",
   "metadata": {},
   "source": [
    "$\\oLines$"
   ]
  }
 ],
 "metadata": {
  "kernelspec": {
   "display_name": "Python 3 (ipykernel)",
   "language": "python",
   "name": "python3"
  },
  "language_info": {
   "codemirror_mode": {
    "name": "ipython",
    "version": 3
   },
   "file_extension": ".py",
   "mimetype": "text/x-python",
   "name": "python",
   "nbconvert_exporter": "python",
   "pygments_lexer": "ipython3",
   "version": "3.12.1"
  }
 },
 "nbformat": 4,
 "nbformat_minor": 5
}
